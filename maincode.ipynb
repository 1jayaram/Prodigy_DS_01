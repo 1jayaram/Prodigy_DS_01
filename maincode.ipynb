http://localhost:8888/notebooks/Prodigy_DS_01.ipynb
# Importing Libraries

import pandas as pd
import matplotlib.pyplot as plt
import numpy as np

# Reading the dataset

df = pd.read_csv("C:/Users/USER/OneDrive/Desktop/Metadata_Country_API_SP.POP.TOTL_DS2_en_csv_v2_31753.csv")
df

# Visualizing the data

gender_counts = df['Region'].value_counts()
bar_width = 0.3
x=range(len(gender_counts.index))


plt.bar(gender_counts.index,gender_counts.values)
plt.xlabel('Region')
plt.ylabel('Count')
plt.title('Distribution of Region')


plt.xticks(x,gender_counts.index,rotation=60)
plt.tight_layout()
plt.show()
